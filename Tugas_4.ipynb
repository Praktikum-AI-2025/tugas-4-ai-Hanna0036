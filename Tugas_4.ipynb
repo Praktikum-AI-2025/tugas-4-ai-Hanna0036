{
 "cells": [
  {
   "cell_type": "markdown",
   "id": "5c176a10",
   "metadata": {},
   "source": [
    "=====================================================================================================\n",
    "Membangun sebuah model Neural Network untuk klasifikasi dataset Horse or Human dalam binary classes.\n",
    "\n",
    "Input layer harus menerima 150x150 dengan 3 bytes warna sebagai input shapenya.\n",
    "Jangan menggunakan lambda layers dalam model.\n",
    "\n",
    "Dataset yang digunakan dibuat oleh Laurence Moroney (laurencemoroney.com).\n",
    "\n",
    "Standar yang harus dicapai untuk accuracy dan validation_accuracy > 83%\n",
    "====================================================================================================="
   ]
  },
  {
   "cell_type": "code",
   "execution_count": 1,
   "id": "5ac08edc",
   "metadata": {},
   "outputs": [],
   "source": [
    "import urllib.request\n",
    "import zipfile\n",
    "import tensorflow as tf\n",
    "import os\n",
    "from keras_preprocessing.image import ImageDataGenerator\n",
    "from tensorflow.keras.optimizers import RMSprop"
   ]
  },
  {
   "cell_type": "code",
   "execution_count": 2,
   "id": "e002827f",
   "metadata": {},
   "outputs": [],
   "source": [
    "def solution_05():\n",
    "    data_url_1 = 'https://github.com/dicodingacademy/assets/releases/download/release-horse-or-human/horse-or-human.zip'\n",
    "    urllib.request.urlretrieve(data_url_1, 'horse-or-human.zip')\n",
    "    local_file = 'horse-or-human.zip'\n",
    "    zip_ref = zipfile.ZipFile(local_file, 'r')\n",
    "    zip_ref.extractall('data/horse-or-human')\n",
    "\n",
    "    data_url_2 = 'https://github.com/dicodingacademy/assets/raw/main/Simulation/machine_learning/validation-horse-or-human.zip'\n",
    "    urllib.request.urlretrieve(data_url_2, 'validation-horse-or-human.zip')\n",
    "    local_file = 'validation-horse-or-human.zip'\n",
    "    zip_ref = zipfile.ZipFile(local_file, 'r')\n",
    "    zip_ref.extractall('data/validation-horse-or-human')\n",
    "    zip_ref.close()\n",
    "\n",
    "    TRAINING_DIR = 'data/horse-or-human'\n",
    "    train_datagen = ImageDataGenerator(\n",
    "        rescale=1/255,\n",
    "        rotation_range=40,\n",
    "        horizontal_flip=True,\n",
    "        shear_range=0.2,\n",
    "        zoom_range=0.2,\n",
    "        fill_mode='nearest'\n",
    "    )\n",
    "\n",
    "    train_generator= ImageDataGenerator(rescale=1./255)\n",
    "    \n",
    "    # YOUR CODE HERE\n",
    "\n",
    "    VALIDATION_DIR = 'data/validation-horse-or-human'\n",
    "\n",
    "    validation_datagen = ImageDataGenerator(rescale=1./255)\n",
    "\n",
    "    train_generator = train_datagen.flow_from_directory(\n",
    "        TRAINING_DIR,\n",
    "        target_size=(150, 150),\n",
    "        class_mode='binary',\n",
    "        batch_size=32\n",
    "    )\n",
    "\n",
    "    validation_generator = validation_datagen.flow_from_directory(\n",
    "        VALIDATION_DIR,\n",
    "        target_size=(150, 150),\n",
    "        class_mode='binary',\n",
    "        batch_size=32\n",
    "    )\n",
    "\n",
    "    model=tf.keras.models.Sequential([\n",
    "        # YOUR CODE HERE, end with a Neuron Dense, activated by sigmoid\n",
    "                tf.keras.layers.Conv2D(16, (3,3), activation='relu', input_shape=(150,150,3)),\n",
    "                tf.keras.layers.MaxPooling2D(2,2),\n",
    "\n",
    "                tf.keras.layers.Conv2D(32, (3,3), activation='relu'),\n",
    "                tf.keras.layers.MaxPooling2D(2,2),\n",
    "\n",
    "                tf.keras.layers.Conv2D(64, (3,3), activation='relu'),\n",
    "                tf.keras.layers.MaxPooling2D(2,2),\n",
    "\n",
    "                tf.keras.layers.Flatten(),\n",
    "                tf.keras.layers.Dense(512, activation='relu'),\n",
    "\n",
    "                tf.keras.layers.Dense(1, activation='sigmoid') #DO NOT CHANGE THIS LINE!\n",
    "        ])\n",
    "\n",
    "    return model"
   ]
  },
  {
   "cell_type": "code",
   "execution_count": null,
   "id": "ce0d5b38",
   "metadata": {},
   "outputs": [],
   "source": [
    "# The code below is to save your model as a .h5 file.\n",
    "# It will be saved automatically in your Submission folder.\n",
    "if __name__ == '__main__':\n",
    "    # DO NOT CHANGE THIS CODE\n",
    "    model=solution_05()\n",
    "    model.save(\"model_05.h5\")"
   ]
  }
 ],
 "metadata": {
  "jupytext": {
   "cell_metadata_filter": "-all",
   "main_language": "python",
   "notebook_metadata_filter": "-all"
  },
  "kernelspec": {
   "display_name": "Python 3 (ipykernel)",
   "language": "python",
   "name": "python3"
  },
  "language_info": {
   "codemirror_mode": {
    "name": "ipython",
    "version": 3
   },
   "file_extension": ".py",
   "mimetype": "text/x-python",
   "name": "python",
   "nbconvert_exporter": "python",
   "pygments_lexer": "ipython3",
   "version": "3.12.8"
  }
 },
 "nbformat": 4,
 "nbformat_minor": 5
}
